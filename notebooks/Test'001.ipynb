{
 "cells": [
  {
   "cell_type": "code",
   "execution_count": 1,
   "id": "292927d2",
   "metadata": {},
   "outputs": [],
   "source": [
    "# imports\n",
    "import numpy as np\n",
    "import matplotlib.pyplot as plt"
   ]
  },
  {
   "cell_type": "code",
   "execution_count": 2,
   "id": "bddd1e9e",
   "metadata": {},
   "outputs": [
    {
     "name": "stdout",
     "output_type": "stream",
     "text": [
      "[[-275. -119. -119.]\n",
      " [-275. -119. -119.]\n",
      " [-275. -118. -121.]\n",
      " ...\n",
      " [  -4.  -83.   21.]\n",
      " [  -9.  -88.   31.]\n",
      " [ -16.  -96.   33.]]\n",
      "(6500, 3)\n"
     ]
    }
   ],
   "source": [
    "data = np.loadtxt(\"data/ECGu.txt\")  # Load the ECG data from the text file\n",
    "print(data) # Print the ECG data\n",
    "print(data.shape) # Print the number of rows and columns"
   ]
  },
  {
   "cell_type": "code",
   "execution_count": 3,
   "id": "27036783",
   "metadata": {},
   "outputs": [],
   "source": [
    "ecg_mV = data * (1024 / 1000)  # µV -> mV\n",
    "# ou plus simplement, si tu considères directement : 1 unité = 1.024 mV\n",
    "ecg_mV = data * 1.024\n",
    "\n",
    "FS = 1000  # Hz\n",
    "n_samples = ecg_mV.shape[0]\n",
    "time_s = np.arange(n_samples) / FS"
   ]
  },
  {
   "cell_type": "code",
   "execution_count": null,
   "id": "db3e02a8",
   "metadata": {},
   "outputs": [],
   "source": []
  }
 ],
 "metadata": {
  "kernelspec": {
   "display_name": "base",
   "language": "python",
   "name": "python3"
  },
  "language_info": {
   "codemirror_mode": {
    "name": "ipython",
    "version": 3
   },
   "file_extension": ".py",
   "mimetype": "text/x-python",
   "name": "python",
   "nbconvert_exporter": "python",
   "pygments_lexer": "ipython3",
   "version": "3.13.5"
  }
 },
 "nbformat": 4,
 "nbformat_minor": 5
}
